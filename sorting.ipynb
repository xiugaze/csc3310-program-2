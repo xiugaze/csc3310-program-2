{
 "cells": [
  {
   "cell_type": "markdown",
   "metadata": {},
   "source": [
    "# Program II: Sorting Algorithms\n",
    "### David Mbele, Wesley Jochman, Caleb Andreano\n",
    "\n",
    "Runtime complexity of sorting algorithms are intrinsically tied to the runtime ordering of the data operated on. Sorting algorithms with identical asymptotic complexity can have significantly different best and worst cases. In this report, two $O(n)$ sorting algorithms, Insertion Sort and Selection Sort are implemented, compared and benchmarked for varying sample sizes. Additionally, regression modeling is applied to each algorithm to provide an estimate of asymptotic runtime. "
   ]
  },
  {
   "cell_type": "markdown",
   "metadata": {},
   "source": [
    "## Insertion Sort"
   ]
  },
  {
   "cell_type": "code",
   "execution_count": 4,
   "metadata": {},
   "outputs": [],
   "source": [
    "def insertion_sort(input):\n",
    "    for i in range(1, len(input)):\n",
    "        key = input[i]\n",
    "        j = i - 1\n",
    "        while j >= 0 and key < input[j]:\n",
    "            input[j + 1] = input[j]\n",
    "            j -= 1\n",
    "        input[j + 1] = key"
   ]
  },
  {
   "cell_type": "code",
   "execution_count": 5,
   "metadata": {},
   "outputs": [],
   "source": [
    "input = [4, 3, 2, 1]\n",
    "insertion_sort(input)\n",
    "assert input == [1, 2, 3, 4]\n",
    "\n",
    "# Test with already sorted list\n",
    "input = [1, 2, 3, 4]\n",
    "insertion_sort(input)\n",
    "assert input == [1, 2, 3, 4]\n",
    "\n",
    "# Test with negative numbers\n",
    "input = [-4, -3, -2, -1]\n",
    "insertion_sort(input)\n",
    "assert input == [-4, -3, -2, -1]\n",
    "\n",
    "input = [-1, -2, -3, -4]\n",
    "insertion_sort(input)\n",
    "assert input == [-4, -3, -2, -1]\n",
    "\n",
    "# Test with mixed numbers\n",
    "input = [-4, 3, -2, 1]\n",
    "insertion_sort(input)\n",
    "assert input == [-4, -2, 1, 3]\n",
    "\n",
    "input = [4, -3, 2, -1]\n",
    "insertion_sort(input)\n",
    "assert input == [-3, -1, 2, 4]\n",
    "\n",
    "# Test with empty list\n",
    "input = []\n",
    "insertion_sort(input)\n",
    "assert input == []\n",
    "\n",
    "# Test with single element\n",
    "input = [1]\n",
    "insertion_sort(input)\n",
    "assert input == [1]\n",
    "\n",
    "# Test with two elements\n",
    "input = [2, 1]\n",
    "insertion_sort(input)\n",
    "assert input == [1, 2]\n",
    "\n",
    "# Test with large list\n",
    "input = list(range(1000, 0, -1))\n",
    "insertion_sort(input)\n",
    "assert input == list(range(1, 1001))"
   ]
  },
  {
   "cell_type": "markdown",
   "metadata": {},
   "source": [
    "## Benchmarking\n",
    "#### Benchmark Helper functions"
   ]
  },
  {
   "cell_type": "code",
   "execution_count": 12,
   "metadata": {},
   "outputs": [],
   "source": [
    "from enum import Enum\n",
    "from random import randint\n",
    "import matplotlib.pyplot as plt\n",
    "import time\n",
    "class Ordering(Enum):\n",
    "    Unsorted = 1\n",
    "    Sorted = 2\n",
    "    RevSorted = 3\n",
    "\n",
    "def benchmark(sorting_algorithm, input_list):\n",
    "    start_time = time.perf_counter()\n",
    "    sorting_algorithm(input_list)\n",
    "    end_time = time.perf_counter()\n",
    "    elapsed = end_time - start_time\n",
    "    return elapsed\n",
    "\n",
    "def generate_list(ordering, length):\n",
    "    l = [None] * length\n",
    "    match ordering:\n",
    "        case Ordering.Unsorted:\n",
    "            for i in range(length):\n",
    "                l[i] = randint(0, length*10)\n",
    "        case Ordering.Sorted:\n",
    "            for i in range(length):\n",
    "                l[i] = i\n",
    "        case Ordering.RevSorted:\n",
    "            for i in range(length):\n",
    "                l[i] = (length - i - 1)\n",
    "    return l\n"
   ]
  },
  {
   "cell_type": "markdown",
   "metadata": {},
   "source": [
    "#### Insertion Sort"
   ]
  },
  {
   "cell_type": "code",
   "execution_count": 15,
   "metadata": {},
   "outputs": [
    {
     "ename": "KeyError",
     "evalue": "<Ordering.Unsorted: 1>",
     "output_type": "error",
     "traceback": [
      "\u001b[1;31m---------------------------------------------------------------------------\u001b[0m",
      "\u001b[1;31mKeyError\u001b[0m                                  Traceback (most recent call last)",
      "Cell \u001b[1;32mIn[15], line 7\u001b[0m\n\u001b[0;32m      5\u001b[0m \u001b[38;5;28;01mfor\u001b[39;00m size \u001b[38;5;129;01min\u001b[39;00m sizes:\n\u001b[0;32m      6\u001b[0m     pair \u001b[38;5;241m=\u001b[39m (size, benchmark(insertion_sort, generate_list(order, size)))\n\u001b[1;32m----> 7\u001b[0m     \u001b[43mtimes\u001b[49m\u001b[43m[\u001b[49m\u001b[43morder\u001b[49m\u001b[43m]\u001b[49m\u001b[38;5;241m.\u001b[39mappend(pair)\n",
      "\u001b[1;31mKeyError\u001b[0m: <Ordering.Unsorted: 1>"
     ]
    }
   ],
   "source": [
    "sizes = [500, 2500, 10000, 20000, 30000]\n",
    "orderings = [Ordering.Unsorted, Ordering.Sorted, Ordering.RevSorted]\n",
    "for order in orderings:\n",
    "    for size in sizes:\n",
    "        pair = (size, benchmark(insertion_sort, generate_list(order, size)))\n",
    "        times[order].append(pair)"
   ]
  }
 ],
 "metadata": {
  "kernelspec": {
   "display_name": "Python 3",
   "language": "python",
   "name": "python3"
  },
  "language_info": {
   "codemirror_mode": {
    "name": "ipython",
    "version": 3
   },
   "file_extension": ".py",
   "mimetype": "text/x-python",
   "name": "python",
   "nbconvert_exporter": "python",
   "pygments_lexer": "ipython3",
   "version": "3.11.8"
  }
 },
 "nbformat": 4,
 "nbformat_minor": 2
}
